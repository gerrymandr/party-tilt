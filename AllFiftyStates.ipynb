{
 "cells": [
  {
   "cell_type": "markdown",
   "metadata": {},
   "source": [
    "# Senate vote percentages for all fifty states\n",
    "\n",
    "In this notebook, we compute the two-party vote percentages for all fifty states using the turnout-weighted average of recent Senate election results."
   ]
  },
  {
   "cell_type": "markdown",
   "metadata": {},
   "source": [
    "## Data collection\n",
    "\n",
    "Our data comes from election results spreadsheets made by the Federal Election Comission. For each federal election from 2002 to 2016, we have extracted the General Election columns from the \"Senate By Party\" sheet and included them as `.csv` files in the `raw_csv` folder of this repository. The entire summary documents may be downloaded from [this page](https://transition.fec.gov/pubrec/electionresults.shtml) on the FEC websie, which we accessed October 17th, 2018.\n",
    "\n",
    "In addition to copying the columns, we removed all asterisks (for footnotes) from the state abbreviations, and normalized the column headers as follows:\n",
    "\n",
    "* `State`: 2-letter state abbreviation\n",
    "* `Democratic`: Democratic vote count\n",
    "* `Republican`: Republican vote count\n",
    "* `Other`: total non-Democratic, non-Republican vote count\n",
    "\n",
    "### Additional notes on the data\n",
    "\n",
    "We include these notes from the original FEC documents.\n",
    "\n",
    "* \"For states that had votes for both full and unexpired terms, the votes for both terms are included in the totals.\" This affects the following Senate totals:\n",
    "    * 2010: Illinois, New York\n",
    "    * 2014: Hawaii, Oklahoma, South Carolina\n",
    "* \"In some states, there were unopposed candidates whose names did not appear on a ballot and therefore received no votes.\""
   ]
  },
  {
   "cell_type": "markdown",
   "metadata": {},
   "source": [
    "## Data tidying\n",
    "\n",
    "Now that we have the raw election results, we join them into a single [tidy](http://r4ds.had.co.nz/tidy-data.html) dataset covering all Senate election races in all states from 2002 to 2016.\n",
    "\n",
    "We want each row of our table to be a record of a single Senate race. To do this, we join the contents of all of our raw CSV files into a single dataframe."
   ]
  },
  {
   "cell_type": "code",
   "execution_count": 3,
   "metadata": {},
   "outputs": [],
   "source": [
    "import geopandas\n",
    "import pandas\n",
    "import pathlib"
   ]
  },
  {
   "cell_type": "code",
   "execution_count": 26,
   "metadata": {},
   "outputs": [],
   "source": [
    "df = pandas.DataFrame(data=[], columns=[\"State\", \"Democratic\", \"Republican\", \"Other\", \"Year\"])\n",
    "\n",
    "csv_folder = pathlib.Path(\"./raw_csv/\")\n",
    "\n",
    "for filepath in csv_folder.iterdir():\n",
    "    if filepath.suffix == \".csv\":\n",
    "        year = filepath.stem\n",
    "        \n",
    "        table = pandas.read_csv(filepath)\n",
    "        table[\"Year\"] = year\n",
    "        \n",
    "        df = df.append(table)"
   ]
  },
  {
   "cell_type": "markdown",
   "metadata": {},
   "source": [
    "To check our work, we verify that the `Year` column holds 8 unique values (one for each election cycle from 2002 to 2016):"
   ]
  },
  {
   "cell_type": "code",
   "execution_count": 29,
   "metadata": {},
   "outputs": [
    {
     "data": {
      "text/plain": [
       "count      419\n",
       "unique       8\n",
       "top       2016\n",
       "freq        56\n",
       "Name: Year, dtype: object"
      ]
     },
     "execution_count": 29,
     "metadata": {},
     "output_type": "execute_result"
    }
   ],
   "source": [
    "df['Year'].describe()"
   ]
  },
  {
   "cell_type": "markdown",
   "metadata": {},
   "source": [
    "### Cleaning up NA values\n",
    "\n",
    "Our table contains some empty rows, because not every state has a Senate election each year. We also have empty rows for territories without representation, like Puerto Rico and the District of Columbia.\n",
    "\n",
    "We remove these empty records."
   ]
  },
  {
   "cell_type": "code",
   "execution_count": 33,
   "metadata": {},
   "outputs": [],
   "source": [
    "# Drop all records for elections that didn't happen\n",
    "df = df.dropna(how=\"all\", subset=(\"Democratic\", \"Republican\", \"Other\"))"
   ]
  },
  {
   "cell_type": "markdown",
   "metadata": {},
   "source": [
    "For some elections where a party received no votes (e.g. unopposed races) the party's cell was left empty. This is parsed as `NaN` by pandas. We correct these NA values to zeros."
   ]
  },
  {
   "cell_type": "code",
   "execution_count": 35,
   "metadata": {},
   "outputs": [],
   "source": [
    "df = df.fillna(0)"
   ]
  },
  {
   "cell_type": "markdown",
   "metadata": {},
   "source": [
    "### Saving the dataset\n",
    "\n",
    "Now that we have our desired dataset, we save it as `data.csv`."
   ]
  },
  {
   "cell_type": "code",
   "execution_count": 37,
   "metadata": {},
   "outputs": [],
   "source": [
    "df.to_csv(\"./data.csv\", index=False) # omit the index, since it is meaningless"
   ]
  },
  {
   "cell_type": "markdown",
   "metadata": {},
   "source": [
    "## Analysis"
   ]
  }
 ],
 "metadata": {
  "kernelspec": {
   "display_name": "Python 3",
   "language": "python",
   "name": "python3"
  },
  "language_info": {
   "codemirror_mode": {
    "name": "ipython",
    "version": 3
   },
   "file_extension": ".py",
   "mimetype": "text/x-python",
   "name": "python",
   "nbconvert_exporter": "python",
   "pygments_lexer": "ipython3",
   "version": "3.6.6"
  }
 },
 "nbformat": 4,
 "nbformat_minor": 2
}
