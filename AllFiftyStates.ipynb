{
 "cells": [
  {
   "cell_type": "markdown",
   "metadata": {},
   "source": [
    "# Senate vote percentages for all fifty states\n",
    "\n",
    "In this notebook, we compute the two-party vote percentages for all fifty states using the turnout-weighted average of recent Senate election results."
   ]
  },
  {
   "cell_type": "markdown",
   "metadata": {},
   "source": [
    "## Data collection\n",
    "\n",
    "Our data comes from election results spreadsheets made by the Federal Election Comission. For each federal election from 2002 to 2016, we have extracted the General Election columns from the \"Senate By Party\" sheet and included them as `.csv` files in the `raw_csv` folder of this repository. The entire summary documents may be downloaded from [this page](https://transition.fec.gov/pubrec/electionresults.shtml) on the FEC websie, which we accessed October 17th, 2018.\n",
    "\n",
    "In addition to copying the columns, we removed all asterisks (for footnotes) from the state abbreviations, and normalized the column headers as follows:\n",
    "\n",
    "* `State`: 2-letter state abbreviation\n",
    "* `Democratic`: Democratic vote count\n",
    "* `Republican`: Republican vote count\n",
    "* `Other`: total non-Democratic, non-Republican vote count\n",
    "\n",
    "### Additional notes on the data\n",
    "\n",
    "We include these notes from the original FEC documents.\n",
    "\n",
    "* \"For states that had votes for both full and unexpired terms, the votes for both terms are included in the totals.\" This affects the following Senate totals:\n",
    "    * 2010: Illinois, New York\n",
    "    * 2014: Hawaii, Oklahoma, South Carolina\n",
    "* \"In some states, there were unopposed candidates whose names did not appear on a ballot and therefore received no votes.\""
   ]
  },
  {
   "cell_type": "markdown",
   "metadata": {},
   "source": [
    "## Data tidying\n",
    "\n",
    "Now that we have the raw election results, we join them into a single [tidy](http://r4ds.had.co.nz/tidy-data.html) dataset covering all Senate election races in all states from 2002 to 2016.\n",
    "\n",
    "We want each row of our table to be a record of a single Senate race. To do this, we join the contents of all of our raw CSV files into a single dataframe."
   ]
  },
  {
   "cell_type": "code",
   "execution_count": 3,
   "metadata": {},
   "outputs": [],
   "source": [
    "import geopandas\n",
    "import pandas\n",
    "import pathlib"
   ]
  }
 ],
 "metadata": {
  "kernelspec": {
   "display_name": "Python 3",
   "language": "python",
   "name": "python3"
  },
  "language_info": {
   "codemirror_mode": {
    "name": "ipython",
    "version": 3
   },
   "file_extension": ".py",
   "mimetype": "text/x-python",
   "name": "python",
   "nbconvert_exporter": "python",
   "pygments_lexer": "ipython3",
   "version": "3.6.6"
  }
 },
 "nbformat": 4,
 "nbformat_minor": 2
}
